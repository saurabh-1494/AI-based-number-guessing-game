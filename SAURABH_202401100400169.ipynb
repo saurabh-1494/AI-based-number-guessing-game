{
  "nbformat": 4,
  "nbformat_minor": 0,
  "metadata": {
    "colab": {
      "provenance": []
    },
    "kernelspec": {
      "name": "python3",
      "display_name": "Python 3"
    },
    "language_info": {
      "name": "python"
    }
  },
  "cells": [
    {
      "cell_type": "code",
      "execution_count": 5,
      "metadata": {
        "colab": {
          "base_uri": "https://localhost:8080/"
        },
        "id": "NoFeTuf-M5p6",
        "outputId": "6c42ceba-a733-45c6-d04f-b95a0f69bcd7"
      },
      "outputs": [
        {
          "output_type": "stream",
          "name": "stdout",
          "text": [
            "Welcome to the Number Guessing Game!\n",
            "I have generated a number between 1 and 100. Try your luck by guessing the number in 10 attempts!\n",
            "Enter your guess: 63\n",
            "Too Low!\n",
            "Enter your guess: 85\n",
            "Too Low!\n",
            "Enter your guess: 96\n",
            "Too Low!\n",
            "Enter your guess: 100\n",
            "Too High!\n",
            "Enter your guess: 98\n",
            "Too Low!\n",
            "Enter your guess: 99\n",
            "Congratulations! You guessed it correctly in 6 attempts!\n",
            "Your guesses are extremely accurate: [63, 85, 96, 100, 98, 99]\n"
          ]
        }
      ],
      "source": [
        "import random  # Importing the random module to generate a random number\n",
        "\n",
        "# Introduction message to the game\n",
        "print(\"Welcome to the Number Guessing Game!\")\n",
        "\n",
        "# Generate a random number between 1 and 100\n",
        "num = random.randint(1, 100)\n",
        "\n",
        "# Variable to assist in hint generation\n",
        "temp = 2\n",
        "\n",
        "# List to store the user's guesses\n",
        "score = []\n",
        "\n",
        "# Inform the user about the game\n",
        "print(\"I have generated a number between 1 and 100. Try your luck by guessing the number in 10 attempts!\")\n",
        "\n",
        "# Loop for 10 attempts\n",
        "for i in range(1, 11):\n",
        "    # Prompt the user to enter their guess\n",
        "    guess = int(input(\"Enter your guess: \"))\n",
        "    # Append the guess to the score list\n",
        "    score.append(guess)\n",
        "\n",
        "    # Check if the guess is too low\n",
        "    if guess < num:\n",
        "        print(\"Too Low!\")\n",
        "    # Check if the guess is too high\n",
        "    elif guess > num:\n",
        "        print(\"Too High!\")\n",
        "    # If the guess is correct\n",
        "    else:\n",
        "        print(f\"Congratulations! You guessed it correctly in {i} attempts!\")\n",
        "        break  # End the loop if the user guesses correctly\n",
        "\n",
        "# Check if the user's guesses contain the correct number\n",
        "if num in score:\n",
        "    print(\"Your guesses are extremely accurate:\", score)\n",
        "# If the user couldn't guess the number in 10 attempts\n",
        "else:\n",
        "    print(\"You are far away after 10 guesses. Your guesses:\", score)\n"
      ]
    }
  ]
}